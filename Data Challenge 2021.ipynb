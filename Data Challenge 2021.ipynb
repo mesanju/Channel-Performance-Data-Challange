{
 "cells": [
  {
   "cell_type": "markdown",
   "metadata": {},
   "source": [
    "##Data Challenge\n",
    "\n",
    "1. What metrics will you measure to evaluate the channel performance? How are the five\n",
    "channels performing relative to one another?\n",
    "2. What can you infer about the relative return on investment from the service types? What\n",
    "might be driving the differences in results?\n",
    "3. Where would you want more information before drawing conclusions? What additional\n",
    "data would be most useful to you?"
   ]
  },
  {
   "cell_type": "code",
   "execution_count": 201,
   "metadata": {},
   "outputs": [],
   "source": [
    "# for data manupulation\n",
    "import pandas as pd\n",
    "import numpy as np\n",
    "\n",
    "# for Visualization\n",
    "import matplotlib.pyplot as plt\n",
    "import matplotlib as mpl\n",
    "import matplotlib.dates as md \n",
    "from matplotlib.dates import DateFormatter\n",
    "%matplotlib inline \n",
    "import seaborn as sns\n",
    "\n",
    "# for modeling\n",
    "import statsmodels.api as sm \n",
    "\n",
    "import os\n",
    "\n",
    "import warnings\n",
    "warnings.filterwarnings('ignore')\n"
   ]
  },
  {
   "cell_type": "code",
   "execution_count": 202,
   "metadata": {},
   "outputs": [
    {
     "data": {
      "text/html": [
       "<div>\n",
       "<style scoped>\n",
       "    .dataframe tbody tr th:only-of-type {\n",
       "        vertical-align: middle;\n",
       "    }\n",
       "\n",
       "    .dataframe tbody tr th {\n",
       "        vertical-align: top;\n",
       "    }\n",
       "\n",
       "    .dataframe thead th {\n",
       "        text-align: right;\n",
       "    }\n",
       "</style>\n",
       "<table border=\"1\" class=\"dataframe\">\n",
       "  <thead>\n",
       "    <tr style=\"text-align: right;\">\n",
       "      <th></th>\n",
       "      <th>Channel</th>\n",
       "      <th>Service Type</th>\n",
       "      <th>Week Number</th>\n",
       "      <th>Ad Expense</th>\n",
       "      <th>Numer of Clicks</th>\n",
       "      <th>Number of Signups</th>\n",
       "      <th>Revenue</th>\n",
       "    </tr>\n",
       "  </thead>\n",
       "  <tbody>\n",
       "    <tr>\n",
       "      <th>0</th>\n",
       "      <td>A</td>\n",
       "      <td>Cooking Classes</td>\n",
       "      <td>Week 04</td>\n",
       "      <td>2376.0</td>\n",
       "      <td>360</td>\n",
       "      <td>4</td>\n",
       "      <td>0</td>\n",
       "    </tr>\n",
       "    <tr>\n",
       "      <th>1</th>\n",
       "      <td>A</td>\n",
       "      <td>Cooking Classes</td>\n",
       "      <td>Week 05</td>\n",
       "      <td>2540.0</td>\n",
       "      <td>387</td>\n",
       "      <td>5</td>\n",
       "      <td>2864</td>\n",
       "    </tr>\n",
       "    <tr>\n",
       "      <th>2</th>\n",
       "      <td>A</td>\n",
       "      <td>Cooking Classes</td>\n",
       "      <td>Week 06</td>\n",
       "      <td>1000.0</td>\n",
       "      <td>143</td>\n",
       "      <td>3</td>\n",
       "      <td>152</td>\n",
       "    </tr>\n",
       "    <tr>\n",
       "      <th>3</th>\n",
       "      <td>A</td>\n",
       "      <td>Cooking Classes</td>\n",
       "      <td>Week 07</td>\n",
       "      <td>388.0</td>\n",
       "      <td>65</td>\n",
       "      <td>1</td>\n",
       "      <td>0</td>\n",
       "    </tr>\n",
       "    <tr>\n",
       "      <th>4</th>\n",
       "      <td>A</td>\n",
       "      <td>Cooking Classes</td>\n",
       "      <td>Week 08</td>\n",
       "      <td>400.0</td>\n",
       "      <td>68</td>\n",
       "      <td>0</td>\n",
       "      <td>0</td>\n",
       "    </tr>\n",
       "  </tbody>\n",
       "</table>\n",
       "</div>"
      ],
      "text/plain": [
       "  Channel     Service Type Week Number  Ad Expense  Numer of Clicks  \\\n",
       "0       A  Cooking Classes     Week 04      2376.0              360   \n",
       "1       A  Cooking Classes     Week 05      2540.0              387   \n",
       "2       A  Cooking Classes     Week 06      1000.0              143   \n",
       "3       A  Cooking Classes     Week 07       388.0               65   \n",
       "4       A  Cooking Classes     Week 08       400.0               68   \n",
       "\n",
       "  Number of Signups  Revenue   \n",
       "0                 4         0  \n",
       "1                 5      2864  \n",
       "2                 3       152  \n",
       "3                 1         0  \n",
       "4                 0         0  "
      ]
     },
     "execution_count": 202,
     "metadata": {},
     "output_type": "execute_result"
    }
   ],
   "source": [
    "# Importing data\n",
    "df = pd.read_excel('Q4_Marketing_Channel_Performance.xlsx', sheetname ='Marketing Performance')\n",
    "df.head()                   "
   ]
  },
  {
   "cell_type": "code",
   "execution_count": 203,
   "metadata": {},
   "outputs": [
    {
     "data": {
      "text/html": [
       "<div>\n",
       "<style scoped>\n",
       "    .dataframe tbody tr th:only-of-type {\n",
       "        vertical-align: middle;\n",
       "    }\n",
       "\n",
       "    .dataframe tbody tr th {\n",
       "        vertical-align: top;\n",
       "    }\n",
       "\n",
       "    .dataframe thead th {\n",
       "        text-align: right;\n",
       "    }\n",
       "</style>\n",
       "<table border=\"1\" class=\"dataframe\">\n",
       "  <thead>\n",
       "    <tr style=\"text-align: right;\">\n",
       "      <th></th>\n",
       "      <th>Channel</th>\n",
       "      <th>Service_Type</th>\n",
       "      <th>Week Number</th>\n",
       "      <th>Ad_Expense</th>\n",
       "      <th>Num_Clicks</th>\n",
       "      <th>Num_Signup</th>\n",
       "      <th>Revenue</th>\n",
       "    </tr>\n",
       "  </thead>\n",
       "  <tbody>\n",
       "    <tr>\n",
       "      <th>0</th>\n",
       "      <td>A</td>\n",
       "      <td>Cooking Classes</td>\n",
       "      <td>Week 04</td>\n",
       "      <td>2376.0</td>\n",
       "      <td>360</td>\n",
       "      <td>4</td>\n",
       "      <td>0</td>\n",
       "    </tr>\n",
       "    <tr>\n",
       "      <th>1</th>\n",
       "      <td>A</td>\n",
       "      <td>Cooking Classes</td>\n",
       "      <td>Week 05</td>\n",
       "      <td>2540.0</td>\n",
       "      <td>387</td>\n",
       "      <td>5</td>\n",
       "      <td>2864</td>\n",
       "    </tr>\n",
       "    <tr>\n",
       "      <th>2</th>\n",
       "      <td>A</td>\n",
       "      <td>Cooking Classes</td>\n",
       "      <td>Week 06</td>\n",
       "      <td>1000.0</td>\n",
       "      <td>143</td>\n",
       "      <td>3</td>\n",
       "      <td>152</td>\n",
       "    </tr>\n",
       "    <tr>\n",
       "      <th>3</th>\n",
       "      <td>A</td>\n",
       "      <td>Cooking Classes</td>\n",
       "      <td>Week 07</td>\n",
       "      <td>388.0</td>\n",
       "      <td>65</td>\n",
       "      <td>1</td>\n",
       "      <td>0</td>\n",
       "    </tr>\n",
       "    <tr>\n",
       "      <th>4</th>\n",
       "      <td>A</td>\n",
       "      <td>Cooking Classes</td>\n",
       "      <td>Week 08</td>\n",
       "      <td>400.0</td>\n",
       "      <td>68</td>\n",
       "      <td>0</td>\n",
       "      <td>0</td>\n",
       "    </tr>\n",
       "  </tbody>\n",
       "</table>\n",
       "</div>"
      ],
      "text/plain": [
       "  Channel     Service_Type Week Number  Ad_Expense  Num_Clicks Num_Signup  \\\n",
       "0       A  Cooking Classes     Week 04      2376.0         360          4   \n",
       "1       A  Cooking Classes     Week 05      2540.0         387          5   \n",
       "2       A  Cooking Classes     Week 06      1000.0         143          3   \n",
       "3       A  Cooking Classes     Week 07       388.0          65          1   \n",
       "4       A  Cooking Classes     Week 08       400.0          68          0   \n",
       "\n",
       "   Revenue  \n",
       "0        0  \n",
       "1     2864  \n",
       "2      152  \n",
       "3        0  \n",
       "4        0  "
      ]
     },
     "execution_count": 203,
     "metadata": {},
     "output_type": "execute_result"
    }
   ],
   "source": [
    "df.rename(columns ={'Ad Expense':'Ad_Expense','Numer of Clicks':'Num_Clicks','Service Type':'Service_Type','Number of Signups':'Num_Signup','Revenue ':'Revenue'}, inplace = True)\n",
    "df.head()\n",
    "\n"
   ]
  },
  {
   "cell_type": "code",
   "execution_count": 204,
   "metadata": {},
   "outputs": [
    {
     "data": {
      "text/plain": [
       "array(['Cooking Classes', 'Local Movers', 'Personal Chef', 'Lawn Mowing',\n",
       "       'Interior Painting', 'Carpet Cleaning', 'Personal Vocal Classes',\n",
       "       'General Contracting', 'Graphic Design', 'Handyman',\n",
       "       'Tax Preparation', 'Landscaping', 'Makeup Artist',\n",
       "       'Massage Therapy', 'Personal Training', 'Party Rental Supplies',\n",
       "       'Photography', 'Plumbing Pipe Repair', 'Logo Design',\n",
       "       'Dog Training'], dtype=object)"
      ]
     },
     "execution_count": 204,
     "metadata": {},
     "output_type": "execute_result"
    }
   ],
   "source": [
    "df.Service_Type.unique()"
   ]
  },
  {
   "cell_type": "code",
   "execution_count": 205,
   "metadata": {},
   "outputs": [
    {
     "data": {
      "text/plain": [
       "array([ 1,  9, 14,  8,  6,  0, 16,  3,  4,  5, 19,  7, 11, 12, 15, 13, 17,\n",
       "       18, 10,  2])"
      ]
     },
     "execution_count": 205,
     "metadata": {},
     "output_type": "execute_result"
    }
   ],
   "source": [
    "from sklearn import preprocessing\n",
    "le = preprocessing.LabelEncoder()\n",
    "df['Service_Type'] = le.fit_transform(df.Service_Type.values)\n",
    "df.Service_Type.unique()"
   ]
  },
  {
   "cell_type": "code",
   "execution_count": 206,
   "metadata": {},
   "outputs": [
    {
     "data": {
      "text/plain": [
       "['Plumbing Pipe Repair',\n",
       " 'Tax Preparation',\n",
       " 'Lawn Mowing',\n",
       " 'Landscaping',\n",
       " 'Local Movers',\n",
       " 'Massage Therapy']"
      ]
     },
     "execution_count": 206,
     "metadata": {},
     "output_type": "execute_result"
    }
   ],
   "source": [
    "list(le.inverse_transform([18,19,8,7,9,12]))"
   ]
  },
  {
   "cell_type": "code",
   "execution_count": 207,
   "metadata": {},
   "outputs": [
    {
     "data": {
      "text/plain": [
       "Channel          object\n",
       "Service_Type      int64\n",
       "Week Number      object\n",
       "Ad_Expense      float64\n",
       "Num_Clicks        int64\n",
       "Num_Signup       object\n",
       "Revenue           int64\n",
       "dtype: object"
      ]
     },
     "execution_count": 207,
     "metadata": {},
     "output_type": "execute_result"
    }
   ],
   "source": [
    "df.dtypes"
   ]
  },
  {
   "cell_type": "code",
   "execution_count": 208,
   "metadata": {},
   "outputs": [
    {
     "data": {
      "text/plain": [
       "array([4, 5, 3, 1, 0, 9, 8, 6, 7, 2, 11, 26, 18, 67, 37, 29, 15, 32, 30,\n",
       "       59, 68, 69, 93, 63, 35, 12, 13, 16, 10, 97, 189, 139, 100, 86, 77,\n",
       "       76, 57, 43, 72, 56, 64, 65, 28, 31, 21, 23, 40, 70, 53, 42, 60, 36,\n",
       "       82, 73, 25, 20, 27, 51, 79, 44, 17, 19, 175, 948, 1270, 954, 709,\n",
       "       524, 600, 594, 828, 530, 700, 374, 499, 602, 1331, 1052, 420, 304,\n",
       "       220, 149, 118, 89, 201, 137, 166, 119, 161, 84, 114, 160, 186, 225,\n",
       "       199, 339, 773, 896, 639, 413, 103, 245, 310, 218, 174, 145, 138,\n",
       "       106, 47, 127, 544, 456, 331, 231, 177, 14, 39, 54, 46, 38, 24, 41,\n",
       "       22, 33, 50, 34, 83, 62, 52, 91, 48, 152, 150, 154, 113, 112, 95,\n",
       "       101, 290, 289, 224, 221, 185, 102, 45, 49, 216, 303, 131, 123, 125,\n",
       "       164, 215, 129, 248, 71, 85, 80, 55, 66, 74, 110, 262, 196, 192,\n",
       "       142, 87, 88, 75, 180, 146, 144, 223, 301, 153, 121, 109, 81, 866,\n",
       "       782, 701, 1355, 946, 854, 640, 228, 117, 94, 61, 90, 'jg'],\n",
       "      dtype=object)"
      ]
     },
     "execution_count": 208,
     "metadata": {},
     "output_type": "execute_result"
    }
   ],
   "source": [
    "df.Num_Signup.unique()"
   ]
  },
  {
   "cell_type": "code",
   "execution_count": 209,
   "metadata": {},
   "outputs": [],
   "source": [
    "df.Num_Signup = df.Num_Signup.replace('jg', 0)"
   ]
  },
  {
   "cell_type": "code",
   "execution_count": 210,
   "metadata": {},
   "outputs": [
    {
     "data": {
      "text/html": [
       "<div>\n",
       "<style scoped>\n",
       "    .dataframe tbody tr th:only-of-type {\n",
       "        vertical-align: middle;\n",
       "    }\n",
       "\n",
       "    .dataframe tbody tr th {\n",
       "        vertical-align: top;\n",
       "    }\n",
       "\n",
       "    .dataframe thead th {\n",
       "        text-align: right;\n",
       "    }\n",
       "</style>\n",
       "<table border=\"1\" class=\"dataframe\">\n",
       "  <thead>\n",
       "    <tr style=\"text-align: right;\">\n",
       "      <th></th>\n",
       "      <th>Service_Type</th>\n",
       "      <th>Ad_Expense</th>\n",
       "      <th>Num_Clicks</th>\n",
       "      <th>Num_Signup</th>\n",
       "      <th>Revenue</th>\n",
       "    </tr>\n",
       "  </thead>\n",
       "  <tbody>\n",
       "    <tr>\n",
       "      <th>count</th>\n",
       "      <td>999.000000</td>\n",
       "      <td>998.000000</td>\n",
       "      <td>999.000000</td>\n",
       "      <td>999.000000</td>\n",
       "      <td>999.000000</td>\n",
       "    </tr>\n",
       "    <tr>\n",
       "      <th>mean</th>\n",
       "      <td>8.968969</td>\n",
       "      <td>3038.729459</td>\n",
       "      <td>1862.069069</td>\n",
       "      <td>56.122122</td>\n",
       "      <td>3838.962963</td>\n",
       "    </tr>\n",
       "    <tr>\n",
       "      <th>std</th>\n",
       "      <td>5.324918</td>\n",
       "      <td>6315.799834</td>\n",
       "      <td>4447.541999</td>\n",
       "      <td>137.643942</td>\n",
       "      <td>12596.386912</td>\n",
       "    </tr>\n",
       "    <tr>\n",
       "      <th>min</th>\n",
       "      <td>0.000000</td>\n",
       "      <td>0.000000</td>\n",
       "      <td>0.000000</td>\n",
       "      <td>0.000000</td>\n",
       "      <td>0.000000</td>\n",
       "    </tr>\n",
       "    <tr>\n",
       "      <th>25%</th>\n",
       "      <td>5.000000</td>\n",
       "      <td>360.000000</td>\n",
       "      <td>186.000000</td>\n",
       "      <td>6.000000</td>\n",
       "      <td>240.000000</td>\n",
       "    </tr>\n",
       "    <tr>\n",
       "      <th>50%</th>\n",
       "      <td>9.000000</td>\n",
       "      <td>814.000000</td>\n",
       "      <td>711.000000</td>\n",
       "      <td>19.000000</td>\n",
       "      <td>1032.000000</td>\n",
       "    </tr>\n",
       "    <tr>\n",
       "      <th>75%</th>\n",
       "      <td>13.000000</td>\n",
       "      <td>2243.000000</td>\n",
       "      <td>1612.000000</td>\n",
       "      <td>44.000000</td>\n",
       "      <td>2922.000000</td>\n",
       "    </tr>\n",
       "    <tr>\n",
       "      <th>max</th>\n",
       "      <td>19.000000</td>\n",
       "      <td>59380.000000</td>\n",
       "      <td>49225.000000</td>\n",
       "      <td>1355.000000</td>\n",
       "      <td>185744.000000</td>\n",
       "    </tr>\n",
       "  </tbody>\n",
       "</table>\n",
       "</div>"
      ],
      "text/plain": [
       "       Service_Type    Ad_Expense    Num_Clicks   Num_Signup        Revenue\n",
       "count    999.000000    998.000000    999.000000   999.000000     999.000000\n",
       "mean       8.968969   3038.729459   1862.069069    56.122122    3838.962963\n",
       "std        5.324918   6315.799834   4447.541999   137.643942   12596.386912\n",
       "min        0.000000      0.000000      0.000000     0.000000       0.000000\n",
       "25%        5.000000    360.000000    186.000000     6.000000     240.000000\n",
       "50%        9.000000    814.000000    711.000000    19.000000    1032.000000\n",
       "75%       13.000000   2243.000000   1612.000000    44.000000    2922.000000\n",
       "max       19.000000  59380.000000  49225.000000  1355.000000  185744.000000"
      ]
     },
     "execution_count": 210,
     "metadata": {},
     "output_type": "execute_result"
    }
   ],
   "source": [
    "df.describe()"
   ]
  },
  {
   "cell_type": "code",
   "execution_count": 211,
   "metadata": {},
   "outputs": [
    {
     "name": "stdout",
     "output_type": "stream",
     "text": [
      "<class 'pandas.core.frame.DataFrame'>\n",
      "RangeIndex: 999 entries, 0 to 998\n",
      "Data columns (total 7 columns):\n",
      "Channel         999 non-null object\n",
      "Service_Type    999 non-null int64\n",
      "Week Number     999 non-null object\n",
      "Ad_Expense      998 non-null float64\n",
      "Num_Clicks      999 non-null int64\n",
      "Num_Signup      999 non-null int64\n",
      "Revenue         999 non-null int64\n",
      "dtypes: float64(1), int64(4), object(2)\n",
      "memory usage: 54.7+ KB\n"
     ]
    }
   ],
   "source": [
    "df.info()"
   ]
  },
  {
   "cell_type": "code",
   "execution_count": 212,
   "metadata": {},
   "outputs": [],
   "source": [
    "#sns.jointplot(x = 'Service Type', y = 'Revenue',data = df)"
   ]
  },
  {
   "cell_type": "code",
   "execution_count": 213,
   "metadata": {},
   "outputs": [],
   "source": [
    "dfg = df.groupby('Channel').sum()"
   ]
  },
  {
   "cell_type": "code",
   "execution_count": 214,
   "metadata": {},
   "outputs": [],
   "source": [
    "df_service = df.groupby('Service_Type').mean()"
   ]
  },
  {
   "cell_type": "code",
   "execution_count": 215,
   "metadata": {},
   "outputs": [
    {
     "data": {
      "text/html": [
       "<div>\n",
       "<style scoped>\n",
       "    .dataframe tbody tr th:only-of-type {\n",
       "        vertical-align: middle;\n",
       "    }\n",
       "\n",
       "    .dataframe tbody tr th {\n",
       "        vertical-align: top;\n",
       "    }\n",
       "\n",
       "    .dataframe thead th {\n",
       "        text-align: right;\n",
       "    }\n",
       "</style>\n",
       "<table border=\"1\" class=\"dataframe\">\n",
       "  <thead>\n",
       "    <tr style=\"text-align: right;\">\n",
       "      <th></th>\n",
       "      <th>Ad_Expense</th>\n",
       "      <th>Num_Clicks</th>\n",
       "      <th>Num_Signup</th>\n",
       "      <th>Revenue</th>\n",
       "    </tr>\n",
       "    <tr>\n",
       "      <th>Service_Type</th>\n",
       "      <th></th>\n",
       "      <th></th>\n",
       "      <th></th>\n",
       "      <th></th>\n",
       "    </tr>\n",
       "  </thead>\n",
       "  <tbody>\n",
       "    <tr>\n",
       "      <th>0</th>\n",
       "      <td>262.800000</td>\n",
       "      <td>522.775000</td>\n",
       "      <td>1.550000</td>\n",
       "      <td>117.300000</td>\n",
       "    </tr>\n",
       "    <tr>\n",
       "      <th>1</th>\n",
       "      <td>299.567568</td>\n",
       "      <td>204.972973</td>\n",
       "      <td>4.162162</td>\n",
       "      <td>470.162162</td>\n",
       "    </tr>\n",
       "    <tr>\n",
       "      <th>2</th>\n",
       "      <td>1623.520000</td>\n",
       "      <td>671.786667</td>\n",
       "      <td>15.413333</td>\n",
       "      <td>1749.493333</td>\n",
       "    </tr>\n",
       "    <tr>\n",
       "      <th>3</th>\n",
       "      <td>1543.282051</td>\n",
       "      <td>925.769231</td>\n",
       "      <td>23.897436</td>\n",
       "      <td>980.717949</td>\n",
       "    </tr>\n",
       "    <tr>\n",
       "      <th>4</th>\n",
       "      <td>603.225806</td>\n",
       "      <td>875.516129</td>\n",
       "      <td>40.774194</td>\n",
       "      <td>1650.064516</td>\n",
       "    </tr>\n",
       "  </tbody>\n",
       "</table>\n",
       "</div>"
      ],
      "text/plain": [
       "               Ad_Expense  Num_Clicks  Num_Signup      Revenue\n",
       "Service_Type                                                  \n",
       "0              262.800000  522.775000    1.550000   117.300000\n",
       "1              299.567568  204.972973    4.162162   470.162162\n",
       "2             1623.520000  671.786667   15.413333  1749.493333\n",
       "3             1543.282051  925.769231   23.897436   980.717949\n",
       "4              603.225806  875.516129   40.774194  1650.064516"
      ]
     },
     "execution_count": 215,
     "metadata": {},
     "output_type": "execute_result"
    }
   ],
   "source": [
    "df_service.head()"
   ]
  },
  {
   "cell_type": "code",
   "execution_count": 216,
   "metadata": {},
   "outputs": [],
   "source": [
    "df_service = df_service.reset_index()"
   ]
  },
  {
   "cell_type": "code",
   "execution_count": 217,
   "metadata": {},
   "outputs": [
    {
     "data": {
      "text/html": [
       "<div>\n",
       "<style scoped>\n",
       "    .dataframe tbody tr th:only-of-type {\n",
       "        vertical-align: middle;\n",
       "    }\n",
       "\n",
       "    .dataframe tbody tr th {\n",
       "        vertical-align: top;\n",
       "    }\n",
       "\n",
       "    .dataframe thead th {\n",
       "        text-align: right;\n",
       "    }\n",
       "</style>\n",
       "<table border=\"1\" class=\"dataframe\">\n",
       "  <thead>\n",
       "    <tr style=\"text-align: right;\">\n",
       "      <th></th>\n",
       "      <th>Service_Type</th>\n",
       "      <th>Ad_Expense</th>\n",
       "      <th>Num_Clicks</th>\n",
       "      <th>Num_Signup</th>\n",
       "      <th>Revenue</th>\n",
       "    </tr>\n",
       "  </thead>\n",
       "  <tbody>\n",
       "    <tr>\n",
       "      <th>0</th>\n",
       "      <td>0</td>\n",
       "      <td>262.800000</td>\n",
       "      <td>522.775000</td>\n",
       "      <td>1.550000</td>\n",
       "      <td>117.300000</td>\n",
       "    </tr>\n",
       "    <tr>\n",
       "      <th>1</th>\n",
       "      <td>1</td>\n",
       "      <td>299.567568</td>\n",
       "      <td>204.972973</td>\n",
       "      <td>4.162162</td>\n",
       "      <td>470.162162</td>\n",
       "    </tr>\n",
       "    <tr>\n",
       "      <th>2</th>\n",
       "      <td>2</td>\n",
       "      <td>1623.520000</td>\n",
       "      <td>671.786667</td>\n",
       "      <td>15.413333</td>\n",
       "      <td>1749.493333</td>\n",
       "    </tr>\n",
       "    <tr>\n",
       "      <th>3</th>\n",
       "      <td>3</td>\n",
       "      <td>1543.282051</td>\n",
       "      <td>925.769231</td>\n",
       "      <td>23.897436</td>\n",
       "      <td>980.717949</td>\n",
       "    </tr>\n",
       "    <tr>\n",
       "      <th>4</th>\n",
       "      <td>4</td>\n",
       "      <td>603.225806</td>\n",
       "      <td>875.516129</td>\n",
       "      <td>40.774194</td>\n",
       "      <td>1650.064516</td>\n",
       "    </tr>\n",
       "  </tbody>\n",
       "</table>\n",
       "</div>"
      ],
      "text/plain": [
       "   Service_Type   Ad_Expense  Num_Clicks  Num_Signup      Revenue\n",
       "0             0   262.800000  522.775000    1.550000   117.300000\n",
       "1             1   299.567568  204.972973    4.162162   470.162162\n",
       "2             2  1623.520000  671.786667   15.413333  1749.493333\n",
       "3             3  1543.282051  925.769231   23.897436   980.717949\n",
       "4             4   603.225806  875.516129   40.774194  1650.064516"
      ]
     },
     "execution_count": 217,
     "metadata": {},
     "output_type": "execute_result"
    }
   ],
   "source": [
    "df_service.head()"
   ]
  },
  {
   "cell_type": "code",
   "execution_count": 218,
   "metadata": {},
   "outputs": [],
   "source": [
    "df_service['Investment_Profit'] = df_service['Revenue'] - df_service['Ad_Expense']"
   ]
  },
  {
   "cell_type": "code",
   "execution_count": 219,
   "metadata": {},
   "outputs": [
    {
     "data": {
      "text/html": [
       "<div>\n",
       "<style scoped>\n",
       "    .dataframe tbody tr th:only-of-type {\n",
       "        vertical-align: middle;\n",
       "    }\n",
       "\n",
       "    .dataframe tbody tr th {\n",
       "        vertical-align: top;\n",
       "    }\n",
       "\n",
       "    .dataframe thead th {\n",
       "        text-align: right;\n",
       "    }\n",
       "</style>\n",
       "<table border=\"1\" class=\"dataframe\">\n",
       "  <thead>\n",
       "    <tr style=\"text-align: right;\">\n",
       "      <th></th>\n",
       "      <th>Service_Type</th>\n",
       "      <th>Ad_Expense</th>\n",
       "      <th>Num_Clicks</th>\n",
       "      <th>Num_Signup</th>\n",
       "      <th>Revenue</th>\n",
       "      <th>Investment_Profit</th>\n",
       "    </tr>\n",
       "  </thead>\n",
       "  <tbody>\n",
       "    <tr>\n",
       "      <th>0</th>\n",
       "      <td>0</td>\n",
       "      <td>262.800000</td>\n",
       "      <td>522.775000</td>\n",
       "      <td>1.550000</td>\n",
       "      <td>117.300000</td>\n",
       "      <td>-145.500000</td>\n",
       "    </tr>\n",
       "    <tr>\n",
       "      <th>1</th>\n",
       "      <td>1</td>\n",
       "      <td>299.567568</td>\n",
       "      <td>204.972973</td>\n",
       "      <td>4.162162</td>\n",
       "      <td>470.162162</td>\n",
       "      <td>170.594595</td>\n",
       "    </tr>\n",
       "    <tr>\n",
       "      <th>2</th>\n",
       "      <td>2</td>\n",
       "      <td>1623.520000</td>\n",
       "      <td>671.786667</td>\n",
       "      <td>15.413333</td>\n",
       "      <td>1749.493333</td>\n",
       "      <td>125.973333</td>\n",
       "    </tr>\n",
       "    <tr>\n",
       "      <th>3</th>\n",
       "      <td>3</td>\n",
       "      <td>1543.282051</td>\n",
       "      <td>925.769231</td>\n",
       "      <td>23.897436</td>\n",
       "      <td>980.717949</td>\n",
       "      <td>-562.564103</td>\n",
       "    </tr>\n",
       "    <tr>\n",
       "      <th>4</th>\n",
       "      <td>4</td>\n",
       "      <td>603.225806</td>\n",
       "      <td>875.516129</td>\n",
       "      <td>40.774194</td>\n",
       "      <td>1650.064516</td>\n",
       "      <td>1046.838710</td>\n",
       "    </tr>\n",
       "  </tbody>\n",
       "</table>\n",
       "</div>"
      ],
      "text/plain": [
       "   Service_Type   Ad_Expense  Num_Clicks  Num_Signup      Revenue  \\\n",
       "0             0   262.800000  522.775000    1.550000   117.300000   \n",
       "1             1   299.567568  204.972973    4.162162   470.162162   \n",
       "2             2  1623.520000  671.786667   15.413333  1749.493333   \n",
       "3             3  1543.282051  925.769231   23.897436   980.717949   \n",
       "4             4   603.225806  875.516129   40.774194  1650.064516   \n",
       "\n",
       "   Investment_Profit  \n",
       "0        -145.500000  \n",
       "1         170.594595  \n",
       "2         125.973333  \n",
       "3        -562.564103  \n",
       "4        1046.838710  "
      ]
     },
     "execution_count": 219,
     "metadata": {},
     "output_type": "execute_result"
    }
   ],
   "source": [
    "df_service.head()"
   ]
  },
  {
   "cell_type": "code",
   "execution_count": 220,
   "metadata": {
    "scrolled": true
   },
   "outputs": [
    {
     "data": {
      "text/html": [
       "<div>\n",
       "<style scoped>\n",
       "    .dataframe tbody tr th:only-of-type {\n",
       "        vertical-align: middle;\n",
       "    }\n",
       "\n",
       "    .dataframe tbody tr th {\n",
       "        vertical-align: top;\n",
       "    }\n",
       "\n",
       "    .dataframe thead th {\n",
       "        text-align: right;\n",
       "    }\n",
       "</style>\n",
       "<table border=\"1\" class=\"dataframe\">\n",
       "  <thead>\n",
       "    <tr style=\"text-align: right;\">\n",
       "      <th></th>\n",
       "      <th>Service_Type</th>\n",
       "      <th>Ad_Expense</th>\n",
       "      <th>Num_Clicks</th>\n",
       "      <th>Num_Signup</th>\n",
       "      <th>Revenue</th>\n",
       "    </tr>\n",
       "    <tr>\n",
       "      <th>Channel</th>\n",
       "      <th></th>\n",
       "      <th></th>\n",
       "      <th></th>\n",
       "      <th></th>\n",
       "      <th></th>\n",
       "    </tr>\n",
       "  </thead>\n",
       "  <tbody>\n",
       "    <tr>\n",
       "      <th>A</th>\n",
       "      <td>367</td>\n",
       "      <td>65628.0</td>\n",
       "      <td>11419</td>\n",
       "      <td>370</td>\n",
       "      <td>33112</td>\n",
       "    </tr>\n",
       "    <tr>\n",
       "      <th>B</th>\n",
       "      <td>2756</td>\n",
       "      <td>837588.0</td>\n",
       "      <td>975008</td>\n",
       "      <td>24880</td>\n",
       "      <td>1388432</td>\n",
       "    </tr>\n",
       "    <tr>\n",
       "      <th>C</th>\n",
       "      <td>2752</td>\n",
       "      <td>232816.0</td>\n",
       "      <td>476935</td>\n",
       "      <td>7565</td>\n",
       "      <td>436668</td>\n",
       "    </tr>\n",
       "    <tr>\n",
       "      <th>D</th>\n",
       "      <td>1655</td>\n",
       "      <td>1738508.0</td>\n",
       "      <td>376622</td>\n",
       "      <td>21170</td>\n",
       "      <td>1756320</td>\n",
       "    </tr>\n",
       "    <tr>\n",
       "      <th>E</th>\n",
       "      <td>1430</td>\n",
       "      <td>158112.0</td>\n",
       "      <td>20223</td>\n",
       "      <td>2081</td>\n",
       "      <td>220592</td>\n",
       "    </tr>\n",
       "  </tbody>\n",
       "</table>\n",
       "</div>"
      ],
      "text/plain": [
       "         Service_Type  Ad_Expense  Num_Clicks  Num_Signup  Revenue\n",
       "Channel                                                           \n",
       "A                 367     65628.0       11419         370    33112\n",
       "B                2756    837588.0      975008       24880  1388432\n",
       "C                2752    232816.0      476935        7565   436668\n",
       "D                1655   1738508.0      376622       21170  1756320\n",
       "E                1430    158112.0       20223        2081   220592"
      ]
     },
     "execution_count": 220,
     "metadata": {},
     "output_type": "execute_result"
    }
   ],
   "source": [
    "dfg.head()"
   ]
  },
  {
   "cell_type": "markdown",
   "metadata": {},
   "source": [
    "Question number 1 : \n",
    "a) What metrics will you measure to evaluate the channel performance? \n",
    "    \n",
    "b) How are the five channels performing relative to one another?"
   ]
  },
  {
   "cell_type": "markdown",
   "metadata": {},
   "source": [
    "dfg.columns.tolist()"
   ]
  },
  {
   "cell_type": "code",
   "execution_count": 221,
   "metadata": {},
   "outputs": [],
   "source": [
    "dfg['Profit'] = dfg['Revenue'] - dfg['Ad_Expense'] "
   ]
  },
  {
   "cell_type": "code",
   "execution_count": 222,
   "metadata": {},
   "outputs": [],
   "source": [
    "dfg['Sign_up_rate'] = dfg['Num_Signup'] / dfg['Num_Clicks'] *100"
   ]
  },
  {
   "cell_type": "code",
   "execution_count": 223,
   "metadata": {},
   "outputs": [
    {
     "data": {
      "text/html": [
       "<div>\n",
       "<style scoped>\n",
       "    .dataframe tbody tr th:only-of-type {\n",
       "        vertical-align: middle;\n",
       "    }\n",
       "\n",
       "    .dataframe tbody tr th {\n",
       "        vertical-align: top;\n",
       "    }\n",
       "\n",
       "    .dataframe thead th {\n",
       "        text-align: right;\n",
       "    }\n",
       "</style>\n",
       "<table border=\"1\" class=\"dataframe\">\n",
       "  <thead>\n",
       "    <tr style=\"text-align: right;\">\n",
       "      <th></th>\n",
       "      <th>Service_Type</th>\n",
       "      <th>Ad_Expense</th>\n",
       "      <th>Num_Clicks</th>\n",
       "      <th>Num_Signup</th>\n",
       "      <th>Revenue</th>\n",
       "      <th>Profit</th>\n",
       "      <th>Sign_up_rate</th>\n",
       "    </tr>\n",
       "    <tr>\n",
       "      <th>Channel</th>\n",
       "      <th></th>\n",
       "      <th></th>\n",
       "      <th></th>\n",
       "      <th></th>\n",
       "      <th></th>\n",
       "      <th></th>\n",
       "      <th></th>\n",
       "    </tr>\n",
       "  </thead>\n",
       "  <tbody>\n",
       "    <tr>\n",
       "      <th>A</th>\n",
       "      <td>367</td>\n",
       "      <td>65628.0</td>\n",
       "      <td>11419</td>\n",
       "      <td>370</td>\n",
       "      <td>33112</td>\n",
       "      <td>-32516.0</td>\n",
       "      <td>3.240214</td>\n",
       "    </tr>\n",
       "    <tr>\n",
       "      <th>B</th>\n",
       "      <td>2756</td>\n",
       "      <td>837588.0</td>\n",
       "      <td>975008</td>\n",
       "      <td>24880</td>\n",
       "      <td>1388432</td>\n",
       "      <td>550844.0</td>\n",
       "      <td>2.551774</td>\n",
       "    </tr>\n",
       "    <tr>\n",
       "      <th>C</th>\n",
       "      <td>2752</td>\n",
       "      <td>232816.0</td>\n",
       "      <td>476935</td>\n",
       "      <td>7565</td>\n",
       "      <td>436668</td>\n",
       "      <td>203852.0</td>\n",
       "      <td>1.586170</td>\n",
       "    </tr>\n",
       "    <tr>\n",
       "      <th>D</th>\n",
       "      <td>1655</td>\n",
       "      <td>1738508.0</td>\n",
       "      <td>376622</td>\n",
       "      <td>21170</td>\n",
       "      <td>1756320</td>\n",
       "      <td>17812.0</td>\n",
       "      <td>5.621021</td>\n",
       "    </tr>\n",
       "    <tr>\n",
       "      <th>E</th>\n",
       "      <td>1430</td>\n",
       "      <td>158112.0</td>\n",
       "      <td>20223</td>\n",
       "      <td>2081</td>\n",
       "      <td>220592</td>\n",
       "      <td>62480.0</td>\n",
       "      <td>10.290264</td>\n",
       "    </tr>\n",
       "  </tbody>\n",
       "</table>\n",
       "</div>"
      ],
      "text/plain": [
       "         Service_Type  Ad_Expense  Num_Clicks  Num_Signup  Revenue    Profit  \\\n",
       "Channel                                                                        \n",
       "A                 367     65628.0       11419         370    33112  -32516.0   \n",
       "B                2756    837588.0      975008       24880  1388432  550844.0   \n",
       "C                2752    232816.0      476935        7565   436668  203852.0   \n",
       "D                1655   1738508.0      376622       21170  1756320   17812.0   \n",
       "E                1430    158112.0       20223        2081   220592   62480.0   \n",
       "\n",
       "         Sign_up_rate  \n",
       "Channel                \n",
       "A            3.240214  \n",
       "B            2.551774  \n",
       "C            1.586170  \n",
       "D            5.621021  \n",
       "E           10.290264  "
      ]
     },
     "execution_count": 223,
     "metadata": {},
     "output_type": "execute_result"
    }
   ],
   "source": [
    "dfg.head()"
   ]
  },
  {
   "cell_type": "code",
   "execution_count": 224,
   "metadata": {},
   "outputs": [],
   "source": [
    "dfg = dfg.reset_index()"
   ]
  },
  {
   "cell_type": "code",
   "execution_count": 225,
   "metadata": {},
   "outputs": [],
   "source": [
    "A = {'A': 1, \"B\": 2, 'C':3,'D':4,'E':5}\n",
    "dfg['Channel'] = dfg.Channel.replace(A)\n"
   ]
  },
  {
   "cell_type": "code",
   "execution_count": 226,
   "metadata": {
    "scrolled": true
   },
   "outputs": [
    {
     "data": {
      "text/html": [
       "<div>\n",
       "<style scoped>\n",
       "    .dataframe tbody tr th:only-of-type {\n",
       "        vertical-align: middle;\n",
       "    }\n",
       "\n",
       "    .dataframe tbody tr th {\n",
       "        vertical-align: top;\n",
       "    }\n",
       "\n",
       "    .dataframe thead th {\n",
       "        text-align: right;\n",
       "    }\n",
       "</style>\n",
       "<table border=\"1\" class=\"dataframe\">\n",
       "  <thead>\n",
       "    <tr style=\"text-align: right;\">\n",
       "      <th></th>\n",
       "      <th>Channel</th>\n",
       "      <th>Service_Type</th>\n",
       "      <th>Ad_Expense</th>\n",
       "      <th>Num_Clicks</th>\n",
       "      <th>Num_Signup</th>\n",
       "      <th>Revenue</th>\n",
       "      <th>Profit</th>\n",
       "      <th>Sign_up_rate</th>\n",
       "    </tr>\n",
       "  </thead>\n",
       "  <tbody>\n",
       "    <tr>\n",
       "      <th>0</th>\n",
       "      <td>1</td>\n",
       "      <td>367</td>\n",
       "      <td>65628.0</td>\n",
       "      <td>11419</td>\n",
       "      <td>370</td>\n",
       "      <td>33112</td>\n",
       "      <td>-32516.0</td>\n",
       "      <td>3.240214</td>\n",
       "    </tr>\n",
       "    <tr>\n",
       "      <th>1</th>\n",
       "      <td>2</td>\n",
       "      <td>2756</td>\n",
       "      <td>837588.0</td>\n",
       "      <td>975008</td>\n",
       "      <td>24880</td>\n",
       "      <td>1388432</td>\n",
       "      <td>550844.0</td>\n",
       "      <td>2.551774</td>\n",
       "    </tr>\n",
       "    <tr>\n",
       "      <th>2</th>\n",
       "      <td>3</td>\n",
       "      <td>2752</td>\n",
       "      <td>232816.0</td>\n",
       "      <td>476935</td>\n",
       "      <td>7565</td>\n",
       "      <td>436668</td>\n",
       "      <td>203852.0</td>\n",
       "      <td>1.586170</td>\n",
       "    </tr>\n",
       "    <tr>\n",
       "      <th>3</th>\n",
       "      <td>4</td>\n",
       "      <td>1655</td>\n",
       "      <td>1738508.0</td>\n",
       "      <td>376622</td>\n",
       "      <td>21170</td>\n",
       "      <td>1756320</td>\n",
       "      <td>17812.0</td>\n",
       "      <td>5.621021</td>\n",
       "    </tr>\n",
       "    <tr>\n",
       "      <th>4</th>\n",
       "      <td>5</td>\n",
       "      <td>1430</td>\n",
       "      <td>158112.0</td>\n",
       "      <td>20223</td>\n",
       "      <td>2081</td>\n",
       "      <td>220592</td>\n",
       "      <td>62480.0</td>\n",
       "      <td>10.290264</td>\n",
       "    </tr>\n",
       "  </tbody>\n",
       "</table>\n",
       "</div>"
      ],
      "text/plain": [
       "   Channel  Service_Type  Ad_Expense  Num_Clicks  Num_Signup  Revenue  \\\n",
       "0        1           367     65628.0       11419         370    33112   \n",
       "1        2          2756    837588.0      975008       24880  1388432   \n",
       "2        3          2752    232816.0      476935        7565   436668   \n",
       "3        4          1655   1738508.0      376622       21170  1756320   \n",
       "4        5          1430    158112.0       20223        2081   220592   \n",
       "\n",
       "     Profit  Sign_up_rate  \n",
       "0  -32516.0      3.240214  \n",
       "1  550844.0      2.551774  \n",
       "2  203852.0      1.586170  \n",
       "3   17812.0      5.621021  \n",
       "4   62480.0     10.290264  "
      ]
     },
     "execution_count": 226,
     "metadata": {},
     "output_type": "execute_result"
    }
   ],
   "source": [
    "dfg.head()"
   ]
  },
  {
   "cell_type": "code",
   "execution_count": 227,
   "metadata": {},
   "outputs": [
    {
     "data": {
      "text/plain": [
       "<matplotlib.axes._subplots.AxesSubplot at 0x1c218f6828>"
      ]
     },
     "execution_count": 227,
     "metadata": {},
     "output_type": "execute_result"
    },
    {
     "data": {
      "image/png": "[encoded data removed]",
      "text/plain": [
       "<Figure size 432x288 with 1 Axes>"
      ]
     },
     "metadata": {
      "needs_background": "light"
     },
     "output_type": "display_data"
    }
   ],
   "source": [
    "\n",
    "sns.barplot(x = 'Channel', y = 'Sign_up_rate', data = dfg)"
   ]
  },
  {
   "cell_type": "code",
   "execution_count": 228,
   "metadata": {},
   "outputs": [
    {
     "data": {
      "text/plain": [
       "<matplotlib.axes._subplots.AxesSubplot at 0x1c2185dcf8>"
      ]
     },
     "execution_count": 228,
     "metadata": {},
     "output_type": "execute_result"
    },
    {
     "data": {
      "image/png": "[encoded data removed]",
      "text/plain": [
       "<Figure size 432x288 with 1 Axes>"
      ]
     },
     "metadata": {
      "needs_background": "light"
     },
     "output_type": "display_data"
    }
   ],
   "source": [
    "sns.barplot(x = 'Channel', y = 'Profit', data = dfg)"
   ]
  },
  {
   "cell_type": "markdown",
   "metadata": {},
   "source": [
    "#Channel Performance: \n",
    "To evaluate Channel Performance, I would calculate Profit (Revenue - Expense) and Sign up rates and   \n",
    "create a bar chart with respect to all five Channels. \n",
    "Eventhough the sign up rates are higher in channel 4 & 5, Profit is higher in Channel 2 and 3\n",
    "which suggest deeper analysis into these factors. A customer segmentation Analysis is required to draw into\n",
    "any conclusion. Also, profit by Channel 1 is in negative so may be we should reconsider investing more on Channel one."
   ]
  },
  {
   "cell_type": "markdown",
   "metadata": {},
   "source": [
    "##Q4:2\n"
   ]
  },
  {
   "cell_type": "code",
   "execution_count": 229,
   "metadata": {},
   "outputs": [
    {
     "data": {
      "text/html": [
       "<div>\n",
       "<style scoped>\n",
       "    .dataframe tbody tr th:only-of-type {\n",
       "        vertical-align: middle;\n",
       "    }\n",
       "\n",
       "    .dataframe tbody tr th {\n",
       "        vertical-align: top;\n",
       "    }\n",
       "\n",
       "    .dataframe thead th {\n",
       "        text-align: right;\n",
       "    }\n",
       "</style>\n",
       "<table border=\"1\" class=\"dataframe\">\n",
       "  <thead>\n",
       "    <tr style=\"text-align: right;\">\n",
       "      <th></th>\n",
       "      <th>Service_Type</th>\n",
       "      <th>Ad_Expense</th>\n",
       "      <th>Num_Clicks</th>\n",
       "      <th>Num_Signup</th>\n",
       "      <th>Revenue</th>\n",
       "      <th>Investment_Profit</th>\n",
       "    </tr>\n",
       "  </thead>\n",
       "  <tbody>\n",
       "    <tr>\n",
       "      <th>0</th>\n",
       "      <td>0</td>\n",
       "      <td>262.800000</td>\n",
       "      <td>522.775000</td>\n",
       "      <td>1.550000</td>\n",
       "      <td>117.300000</td>\n",
       "      <td>-145.500000</td>\n",
       "    </tr>\n",
       "    <tr>\n",
       "      <th>1</th>\n",
       "      <td>1</td>\n",
       "      <td>299.567568</td>\n",
       "      <td>204.972973</td>\n",
       "      <td>4.162162</td>\n",
       "      <td>470.162162</td>\n",
       "      <td>170.594595</td>\n",
       "    </tr>\n",
       "    <tr>\n",
       "      <th>2</th>\n",
       "      <td>2</td>\n",
       "      <td>1623.520000</td>\n",
       "      <td>671.786667</td>\n",
       "      <td>15.413333</td>\n",
       "      <td>1749.493333</td>\n",
       "      <td>125.973333</td>\n",
       "    </tr>\n",
       "    <tr>\n",
       "      <th>3</th>\n",
       "      <td>3</td>\n",
       "      <td>1543.282051</td>\n",
       "      <td>925.769231</td>\n",
       "      <td>23.897436</td>\n",
       "      <td>980.717949</td>\n",
       "      <td>-562.564103</td>\n",
       "    </tr>\n",
       "    <tr>\n",
       "      <th>4</th>\n",
       "      <td>4</td>\n",
       "      <td>603.225806</td>\n",
       "      <td>875.516129</td>\n",
       "      <td>40.774194</td>\n",
       "      <td>1650.064516</td>\n",
       "      <td>1046.838710</td>\n",
       "    </tr>\n",
       "  </tbody>\n",
       "</table>\n",
       "</div>"
      ],
      "text/plain": [
       "   Service_Type   Ad_Expense  Num_Clicks  Num_Signup      Revenue  \\\n",
       "0             0   262.800000  522.775000    1.550000   117.300000   \n",
       "1             1   299.567568  204.972973    4.162162   470.162162   \n",
       "2             2  1623.520000  671.786667   15.413333  1749.493333   \n",
       "3             3  1543.282051  925.769231   23.897436   980.717949   \n",
       "4             4   603.225806  875.516129   40.774194  1650.064516   \n",
       "\n",
       "   Investment_Profit  \n",
       "0        -145.500000  \n",
       "1         170.594595  \n",
       "2         125.973333  \n",
       "3        -562.564103  \n",
       "4        1046.838710  "
      ]
     },
     "execution_count": 229,
     "metadata": {},
     "output_type": "execute_result"
    }
   ],
   "source": [
    "#Q4:2\n",
    "df_service.head()"
   ]
  },
  {
   "cell_type": "code",
   "execution_count": 230,
   "metadata": {
    "scrolled": true
   },
   "outputs": [
    {
     "data": {
      "text/plain": [
       "<matplotlib.axes._subplots.AxesSubplot at 0x1c21a3c9b0>"
      ]
     },
     "execution_count": 230,
     "metadata": {},
     "output_type": "execute_result"
    },
    {
     "data": {
      "image/png": "[encoded data removed]",
      "text/plain": [
       "<Figure size 432x288 with 1 Axes>"
      ]
     },
     "metadata": {
      "needs_background": "light"
     },
     "output_type": "display_data"
    }
   ],
   "source": [
    "# Q4:2\n",
    "\n",
    "sns.barplot(x = 'Service_Type', y = 'Investment_Profit', data = df_service)"
   ]
  },
  {
   "cell_type": "markdown",
   "metadata": {},
   "source": [
    "#Return on Investment based on Service Type: \n",
    "Plumbing Pipe Repair(18) has the highest return in investment followed by Tax Preparation(19) and \n",
    "Lawn Mowing(8). Where as Landscaping(7), Local Movers(9) and Massage Therapy(12) has negative return in\n",
    "investment. Further analysis of location, demographic and customer sehmentation analysis is required to make \n",
    "further insights."
   ]
  },
  {
   "cell_type": "markdown",
   "metadata": {},
   "source": [
    "#Part 4,Q3:\n",
    "To darw any conclusion we should collect more data for Channel Performance and investment on advertisement. \n",
    "We should also look into client demographics,geographic locations, seasonality, time of the day, income,  log in devices and profession which will help us to \n",
    "understant the client and further invest on advertisement nased on those results."
   ]
  },
  {
   "cell_type": "code",
   "execution_count": 235,
   "metadata": {},
   "outputs": [
    {
     "data": {
      "text/plain": [
       "<seaborn.axisgrid.PairGrid at 0x1c21df8ac8>"
      ]
     },
     "execution_count": 235,
     "metadata": {},
     "output_type": "execute_result"
    },
    {
     "data": {
      "image/png": "[encoded data removed]",
      "text/plain": [
       "<Figure size 949.125x900 with 30 Axes>"
      ]
     },
     "metadata": {
      "needs_background": "light"
     },
     "output_type": "display_data"
    }
   ],
   "source": [
    "sns.pairplot(df, hue = 'Channel')"
   ]
  },
  {
   "cell_type": "markdown",
   "metadata": {},
   "source": [
    "##Thank you for providing this opportunity !!"
   ]
  },
  {
   "cell_type": "code",
   "execution_count": null,
   "metadata": {},
   "outputs": [],
   "source": []
  }
 ],
 "metadata": {
  "kernelspec": {
   "display_name": "Python 3",
   "language": "python",
   "name": "python3"
  },
  "language_info": {
   "codemirror_mode": {
    "name": "ipython",
    "version": 3
   },
   "file_extension": ".py",
   "mimetype": "text/x-python",
   "name": "python",
   "nbconvert_exporter": "python",
   "pygments_lexer": "ipython3",
   "version": "3.7.3"
  }
 },
 "nbformat": 4,
 "nbformat_minor": 2
}
